{
 "cells": [
  {
   "cell_type": "markdown",
   "id": "a07bd584",
   "metadata": {},
   "source": [
    "# Theory of Complex Vector Spaces\n",
    "Complex vector spaces extend the idea of real vector spaces by allowing vectors to have complex numbers as their components. In these spaces, vectors can be added together and multiplied by complex scalars to produce new vectors. Key operations in complex vector spaces include vector addition, scalar multiplication, vector negation, and complex conjugation."
   ]
  },
  {
   "cell_type": "markdown",
   "id": "f43fc972-23ab-4d81-aa26-c51325dac8f3",
   "metadata": {},
   "source": [
    "# Creating complex column vectors"
   ]
  },
  {
   "cell_type": "code",
   "execution_count": null,
   "id": "029f08ba-1cdc-4928-9631-f62c51ab7aa5",
   "metadata": {},
   "outputs": [],
   "source": [
    "import numpy as np\n",
    "\n",
    "# Define a 2x2 square matrix\n",
    "matrix = np.array([[2, 3],\n",
    "                   [1, 4]])\n",
    "\n",
    "# Define a vector of size 2\n",
    "vector = np.array([5, 6])\n",
    "\n",
    "# Multiply the matrix by the vector\n",
    "result = np.dot(matrix, vector)\n",
    "\n",
    "# Display the result\n",
    "print(\"Matrix:\\n\", matrix)\n",
    "print(\"\\nVector:\\n\", vector)\n",
    "print(\"\\nResult of multiplication:\\n\", result)\n"
   ]
  },
  {
   "cell_type": "markdown",
   "id": "975c2284",
   "metadata": {},
   "source": [
    "## Manipulating Complex Column Vectors using NumPy\n",
    "Here we demonstrate how to manipulate complex column vectors using NumPy, including operations like sum, negation, multiplication by a scalar, transpose, adjunct, and conjugate."
   ]
  },
  {
   "cell_type": "code",
   "execution_count": 1,
   "id": "e8058abe",
   "metadata": {},
   "outputs": [
    {
     "data": {
      "text/plain": [
       "(array([[3.+2.j],\n",
       "        [8.-2.j],\n",
       "        [5.-3.j]]),\n",
       " array([[-2.-3.j],\n",
       "        [-5.+4.j],\n",
       "        [-1.-1.j]]),\n",
       " array([[ 1.+8.j],\n",
       "        [14.-3.j],\n",
       "        [ 1.+3.j]]),\n",
       " array([[2.+3.j, 5.-4.j, 1.+1.j]]),\n",
       " array([[2.-3.j, 5.+4.j, 1.-1.j]]),\n",
       " array([[2.-3.j],\n",
       "        [5.+4.j],\n",
       "        [1.-1.j]]))"
      ]
     },
     "execution_count": 1,
     "metadata": {},
     "output_type": "execute_result"
    }
   ],
   "source": [
    "\n",
    "import numpy as np\n",
    "\n",
    "# Define two complex column vectors\n",
    "v1 = np.array([[2+3j], [5-4j], [1+1j]])\n",
    "v2 = np.array([[1-1j], [3+2j], [4-4j]])\n",
    "\n",
    "# Sum\n",
    "sum_v = v1 + v2\n",
    "\n",
    "# Negation\n",
    "neg_v1 = -v1\n",
    "\n",
    "# Multiplication by a scalar\n",
    "scalar = 2 + 1j\n",
    "mult_v1 = v1 * scalar\n",
    "\n",
    "# Transpose\n",
    "transpose_v1 = v1.T\n",
    "\n",
    "# Adjunct (Conjugate transpose)\n",
    "adjunct_v1 = v1.T.conj()\n",
    "\n",
    "# Conjugate\n",
    "conjugate_v1 = np.conjugate(v1)\n",
    "\n",
    "(sum_v, neg_v1, mult_v1, transpose_v1, adjunct_v1, conjugate_v1)\n"
   ]
  },
  {
   "cell_type": "markdown",
   "id": "995ae5fc",
   "metadata": {},
   "source": [
    "# Theory of Vector Spaces using Matrices\n",
    "In the context of matrices, vector spaces can be defined where each vector is a matrix of a particular size. Operations on these matrix-vector spaces include matrix addition, scalar multiplication, matrix negation, transpose, adjunct, and conjugate. In this section, we focus on square matrices of size 3x3."
   ]
  },
  {
   "cell_type": "markdown",
   "id": "9385c1f0",
   "metadata": {},
   "source": [
    "## Manipulating Square Matrices using NumPy\n",
    "Examples of how to manipulate 3x3 square matrices using NumPy, showing operations such as sum, negation, multiplication by a scalar, conjugate, transpose, and adjunct."
   ]
  },
  {
   "cell_type": "code",
   "execution_count": null,
   "id": "b81ecc57",
   "metadata": {},
   "outputs": [],
   "source": [
    "\n",
    "# Define two 3x3 complex matrices\n",
    "m1 = np.array([[2+3j, 4-1j, 0], \n",
    "               [1+1j, 3+3j, 5], \n",
    "               [4, 6-2j, 1-1j]])\n",
    "m2 = np.array([[1, 2+1j, 3-3j], \n",
    "               [0, -1+2j, 1-2j], \n",
    "               [3+3j, 2, 4+4j]])\n",
    "\n",
    "# Sum\n",
    "sum_m = m1 + m2\n",
    "\n",
    "# Negation\n",
    "neg_m1 = -m1\n",
    "\n",
    "# Multiplication by a scalar\n",
    "scalar = 0.5 + 0.5j\n",
    "mult_m1 = m1 * scalar\n",
    "\n",
    "# Conjugate\n",
    "conjugate_m1 = np.conjugate(m1)\n",
    "\n",
    "# Transpose\n",
    "transpose_m1 = m1.T\n",
    "\n",
    "# Adjunct (Conjugate transpose)\n",
    "adjunct_m1 = m1.T.conj()\n",
    "\n",
    "(sum_m, neg_m1, mult_m1, conjugate_m1, transpose_m1, adjunct_m1)\n"
   ]
  },
  {
   "cell_type": "markdown",
   "id": "ed909545-8a5c-4cca-85f7-48688b597598",
   "metadata": {},
   "source": [
    "## Checking the Dimension of a Matrix\n",
    "We can check the dimension of a matrix using the `.shape` attribute."
   ]
  },
  {
   "cell_type": "code",
   "execution_count": null,
   "id": "0930dc10-af6d-427f-bbcb-75bfaf051db5",
   "metadata": {},
   "outputs": [],
   "source": [
    "# Checking the dimension of matrix1\n",
    "m1.shape"
   ]
  },
  {
   "cell_type": "markdown",
   "id": "b3fe896b",
   "metadata": {},
   "source": [
    "## Action of a Matrix on a Vector\n",
    "Finally, examples of how to use Python to multiply a 3x3 square matrix by a 3x1 column vector."
   ]
  },
  {
   "cell_type": "code",
   "execution_count": null,
   "id": "e514d047",
   "metadata": {},
   "outputs": [],
   "source": [
    "\n",
    "# Multiplying a 3x3 matrix by a 3x1 vector\n",
    "result = np.dot(m1, v1)\n",
    "result\n"
   ]
  },
  {
   "cell_type": "markdown",
   "id": "5adf9d8a-af43-4074-ab1a-3cabdc4accff",
   "metadata": {},
   "source": [
    "# Exercises on Complex Vectors and Matrices with Concrete Cases\n",
    "\n",
    "This set of exercises focuses on operations with complex column vectors and complex square matrices, including concrete cases with vectors and matrices written in LaTeX format.\n",
    "\n",
    "## Complex Column Vector Operations\n",
    "\n",
    "### Exercise 1: Sum of Two Complex Vectors\n",
    "Given two complex vectors \n",
    "$$ v1 = \\begin{bmatrix} 1 + 2i \\\\ 3 - i \\end{bmatrix} $$ \n",
    "and \n",
    "$$ v2 = \\begin{bmatrix} 2 - i \\\\ 4 + 2i \\end{bmatrix} $$, \n",
    "find their sum.\n",
    "\n",
    "### Exercise 2: Negation of a Complex Vector\n",
    "Given a complex vector \n",
    "$$ v = \\begin{bmatrix} 2 + 3i \\\\ 1 - 2i \\end{bmatrix} $$, \n",
    "find its negation.\n",
    "\n",
    "### Exercise 3: Multiplication of a Complex Vector by a Scalar\n",
    "Multiply the complex vector \n",
    "$$ v = \\begin{bmatrix} 1 - i \\\\ 2 + 2i \\end{bmatrix} $$ \n",
    "by the complex scalar $$ 3 + i $$.\n",
    "\n",
    "### Exercise 4: Transpose of a Complex Vector\n",
    "Find the transpose of the complex vector \n",
    "$$ v = \\begin{bmatrix} 2 - i \\\\ 3 + 4i \\end{bmatrix} $$.\n",
    "\n",
    "### Exercise 5: Conjugate of a Complex Vector\n",
    "Compute the conjugate of the complex vector \n",
    "$$ v = \\begin{bmatrix} 1 + i \\\\ 2 - 3i \\end{bmatrix} $$.\n",
    "\n",
    "### Exercise 6: Adjunct (Conjugate Transpose) of a Complex Vector\n",
    "Find the adjunct (or conjugate transpose) of the complex vector \n",
    "$$ v = \\begin{bmatrix} 1 - 2i \\\\ 3 + i \\end{bmatrix} $$.\n",
    "\n",
    "## Complex Square Matrix Operations\n",
    "\n",
    "### Exercise 7: Sum of Two Complex Matrices\n",
    "Given two complex matrices \n",
    "$$ m1 = \\begin{bmatrix} 1 + i & 2 - i \\\\ 3 + 2i & 4 \\end{bmatrix} $$ \n",
    "and \n",
    "$$ m2 = \\begin{bmatrix} 2 - 3i & 1 \\\\ i & 2 + 2i \\end{bmatrix} $$, \n",
    "calculate their sum.\n",
    "\n",
    "### Exercise 8: Negation of a Complex Matrix\n",
    "Find the negation of the complex matrix \n",
    "$$ m = \\begin{bmatrix} 2 + i & 3 \\\\ 1 - i & 2 + 2i \\end{bmatrix} $$.\n",
    "\n",
    "### Exercise 9: Multiplication of a Complex Matrix by a Scalar\n",
    "Multiply the complex matrix \n",
    "$$ m = \\begin{bmatrix} 1 - i & 2 \\\\ 3 + i & 4 - 2i \\end{bmatrix} $$ \n",
    "by the complex scalar $$ 2 + 3i $$.\n",
    "\n",
    "### Exercise 10: Conjugate of a Complex Matrix\n",
    "Compute the conjugate of the complex matrix \n",
    "$$ m = \\begin{bmatrix} 1 + i & 2 \\\\ 3 - i & 4 + 2i \\end{bmatrix} $$.\n",
    "\n",
    "### Exercise 11: Transpose of a Complex Matrix\n",
    "Find the transpose of the complex matrix \n",
    "$$ m = \\begin{bmatrix} 1 - i & 2 + 2i \\\\ 3 & 4 - i \\end{bmatrix} $$.\n",
    "\n",
    "### Exercise 12: Adjunct (Conjugate Transpose) of a Complex Matrix\n",
    "Calculate the adjunct (or conjugate transpose) of the complex matrix \n",
    "$$ m = \\begin{bmatrix} 1 + 2i & 3 - i \\\\ 4 & 5 + i \\end{bmatrix} $$.\n",
    "\n",
    "### Exercise 13: Checking the Dimensions of a Matrix\n",
    "Determine the dimensions of the complex matrix \n",
    "$$ m = \\begin{bmatrix} 1 - i & 2 \\\\ 3 + 2i & 4 - i \\end{bmatrix} $$.\n",
    "\n",
    "## Multiplication of Matrices and Vectors\n",
    "\n",
    "### Exercise 14: Multiplying a Complex Square Matrix by a Complex Column Vector\n",
    "Multiply the complex square matrix \n",
    "$$ m = \\begin{bmatrix} 1 + i & 2 - i \\\\ 3 & 4 + i \\end{bmatrix} $$ \n",
    "by the complex column vector \n",
    "$$ v = \\begin{bmatrix} 2 - i \\\\ 1 + 3i \\end{bmatrix} $$.\n",
    "\n",
    "## Instructions\n",
    "For each exercise, ensure to display both the input (vectors/matrices) and the result of the operation.Use NumPy for these exercises to practice handling complex numbers and matrix operations in Python.\n"
   ]
  },
  {
   "cell_type": "markdown",
   "id": "5a2070c2-8ec5-4a34-976c-436a606e6d68",
   "metadata": {},
   "source": [
    "# Respuestas\n",
    "### Exercise 1: Sum of Two Complex Vectors\n",
    "Given two complex vectors \n",
    "$$ v1 = \\begin{bmatrix} 1 + 2i \\\\ 3 - i \\end{bmatrix} $$ \n",
    "and \n",
    "$$ v2 = \\begin{bmatrix} 2 - i \\\\ 4 + 2i \\end{bmatrix} $$ \n",
    "find their sum.\n",
    "### Respuesta\n",
    "Como indica la salida del código, la respuesta correcta es:\n",
    "$$ v1 + v2 = \\begin{bmatrix} 3 + i \\\\ 7 + i \\end{bmatrix} $$ \n"
   ]
  },
  {
   "cell_type": "code",
   "execution_count": 15,
   "id": "d782c7e0-727c-4cd9-97a4-39e205724be9",
   "metadata": {},
   "outputs": [
    {
     "name": "stdout",
     "output_type": "stream",
     "text": [
      "v1 =  [[1.+2.j]\n",
      " [3.-1.j]]\n",
      "v2 =  [[2.-1.j]\n",
      " [4.+2.j]]\n",
      "v1 + v2 =  [[3.+1.j]\n",
      " [7.+1.j]]\n"
     ]
    }
   ],
   "source": [
    "# Suma\n",
    "v1 = np.array([[1+2j], [3-1j]])\n",
    "v2 = np.array([[2-1j], [4+2j]])\n",
    "suma = v1 + v2\n",
    "\n",
    "print('v1 = ', v1)\n",
    "print('v2 = ', v2)\n",
    "print('v1 + v2 = ', suma)"
   ]
  },
  {
   "cell_type": "markdown",
   "id": "92cdb40a-b4af-4396-b98f-90c064c80d61",
   "metadata": {},
   "source": [
    "### Exercise 2: Negation of a Complex Vector\n",
    "Given a complex vector \n",
    "$$ v = \\begin{bmatrix} -2 - 3i \\\\ -1 + 2i \\end{bmatrix} $$, \n",
    "find its negation.\n",
    "### Respuesta\n",
    "Como indica la salida del código, la respuesta correcta es:\n",
    "$$ -v = \\begin{bmatrix} 3 + i \\\\ 7 + i \\end{bmatrix} $$ "
   ]
  },
  {
   "cell_type": "code",
   "execution_count": 16,
   "id": "c73722f2-093c-47e2-92c6-008e4f01631d",
   "metadata": {},
   "outputs": [
    {
     "name": "stdout",
     "output_type": "stream",
     "text": [
      "-v =  [[-2.-3.j]\n",
      " [-1.+2.j]]\n"
     ]
    }
   ],
   "source": [
    "#Negacion\n",
    "v = np.array([[2+3j], [1-2j]])\n",
    "neg = -v\n",
    "\n",
    "print('-v = ', neg)"
   ]
  },
  {
   "cell_type": "markdown",
   "id": "9487f03d-2b5c-4110-8e97-a99c09e4d9bc",
   "metadata": {},
   "source": [
    "### Exercise 3: Multiplication of a Complex Vector by a Scalar\n",
    "Multiply the complex vector \n",
    "$$ v = \\begin{bmatrix} 1 - i \\\\ 2 + 2i \\end{bmatrix} $$ \n",
    "by the complex scalar $$ 3 + i $$.\n",
    "### Respuesta\n",
    "Como indica la salida del código, la respuesta correcta es:\n",
    "$$ v*c = \\begin{bmatrix} 4 - 2i \\\\ 4 + 8i \\end{bmatrix} $$ "
   ]
  },
  {
   "cell_type": "code",
   "execution_count": null,
   "id": "6f0a5064-f10c-45d4-bb17-7ab071b29aa1",
   "metadata": {},
   "outputs": [],
   "source": [
    "#Multiplicacion\n",
    "v = np.array([[1-1j], [2+2j]])\n",
    "c = 3 + 1j\n",
    "multi = v*c\n",
    "\n",
    "print('c*v = ', multi)"
   ]
  },
  {
   "cell_type": "markdown",
   "id": "5469c6be-9d7b-4b47-8b70-19dacfaa3d7f",
   "metadata": {},
   "source": [
    "### Exercise 4: Transpose of a Complex Vector\n",
    "Find the transpose of the complex vector \n",
    "$$ v = \\begin{bmatrix} 2 - i \\\\ 3 + 4i \\end{bmatrix} $$.\n",
    "\n",
    "### Respuesta\n",
    "Como indica la salida del código, la respuesta correcta es:\n",
    "$$ vc = \\begin{bmatrix} 2 - i && 3 + 4i \\end{bmatrix} $$ "
   ]
  },
  {
   "cell_type": "code",
   "execution_count": 7,
   "id": "da8d2f75-c956-4557-8526-ae2630b494ef",
   "metadata": {},
   "outputs": [
    {
     "name": "stdout",
     "output_type": "stream",
     "text": [
      "T = [[2.-1.j 3.+4.j]]\n"
     ]
    }
   ],
   "source": [
    "v1 = np.array([[2-1j], [3+4j]])\n",
    "transpuesta = v1.T\n",
    "print(\"T =\", transpuesta)"
   ]
  },
  {
   "cell_type": "markdown",
   "id": "1f5b8d52-47a1-4551-b3a9-7d54822ba7f2",
   "metadata": {},
   "source": [
    "### Exercise 5: Conjugate of a Complex Vector\n",
    "Compute the conjugate of the complex vector \n",
    "$$ v = \\begin{bmatrix} 1 + i \\\\ 2 - 3i \\end{bmatrix} $$.\n",
    "\n",
    "### Respuesta\n",
    "Como indica la salida del código, la respuesta correcta es:\n",
    "$$ vc = \\begin{bmatrix} 1 - i \\\\ 2 + 3i \\end{bmatrix} $$ "
   ]
  },
  {
   "cell_type": "code",
   "execution_count": 4,
   "id": "8e1f2f6d-9608-4a65-bcdd-3c81b3d5b84c",
   "metadata": {},
   "outputs": [
    {
     "name": "stdout",
     "output_type": "stream",
     "text": [
      "[1.-1.j 2.+3.j]\n"
     ]
    }
   ],
   "source": [
    "import numpy as np\n",
    "v = np.array([1+1j, 2-3j])\n",
    "conjugada = np.conjugate(v)\n",
    "print(conjugada)"
   ]
  },
  {
   "cell_type": "markdown",
   "id": "014bd6bb-cd43-4632-b87e-0b0f2deba292",
   "metadata": {},
   "source": [
    "### Exercise 6: Adjunct (Conjugate Transpose) of a Complex Vector\n",
    "Find the adjunct (or conjugate transpose) of the complex vector \n",
    "$$ v = \\begin{bmatrix} 1 - 2i \\\\ 3 + i \\end{bmatrix} $$.\n",
    "### Respuesta\n",
    "Como indica la salida del código, la respuesta correcta es:\n",
    "$$ v1 = \\begin{bmatrix} 1 - i \\\\ 2 + 3i \\end{bmatrix} $$ "
   ]
  },
  {
   "cell_type": "code",
   "execution_count": 9,
   "id": "daf27f91-e3da-46b5-81e1-de0ca6a62ccf",
   "metadata": {},
   "outputs": [
    {
     "name": "stdout",
     "output_type": "stream",
     "text": [
      "Adjunta = [[1.+2.j 3.-1.j]]\n"
     ]
    }
   ],
   "source": [
    "import numpy as np\n",
    "v = np.array([[1-2j], [3+1j]])\n",
    "con = np.conjugate(v)\n",
    "adj = con.T\n",
    "print(\"Adjunta =\", adj)"
   ]
  },
  {
   "cell_type": "markdown",
   "id": "e14893e2-4fe8-492e-8015-9c13cd92d101",
   "metadata": {},
   "source": [
    "### Exercise 7: Sum of Two Complex Matrices\n",
    "Given two complex matrices \n",
    "$$ m1 = \\begin{bmatrix} 1 + i & 2 - i \\\\ 3 + 2i & 4 \\end{bmatrix} $$ \n",
    "and \n",
    "$$ m2 = \\begin{bmatrix} 2 - 3i & 1 \\\\ i & 2 + 2i \\end{bmatrix} $$, \n",
    "calculate their sum.\n",
    "### Respuesta\n",
    "Como indica la salida del código, la respuesta correcta es:\n",
    "$$ m1 + m2 = \\begin{bmatrix} 3 - 2i && 3 - i \\\\ 3 + i && 6 + 2i \\end{bmatrix} $$ \n"
   ]
  },
  {
   "cell_type": "code",
   "execution_count": 10,
   "id": "27bdd8e7-dc3c-4675-8583-275a08838cb9",
   "metadata": {},
   "outputs": [
    {
     "data": {
      "text/plain": [
       "array([[3.-2.j, 3.-1.j],\n",
       "       [3.+1.j, 6.+2.j]])"
      ]
     },
     "execution_count": 10,
     "metadata": {},
     "output_type": "execute_result"
    }
   ],
   "source": [
    "import numpy as np\n",
    "\n",
    "mat1 = np.array([[1+1j, 2-1j],\n",
    "               [3+2j, 4]])\n",
    "mat2 = np.array([[2-3j, 1],\n",
    "               [-1j, 2+2j]])\n",
    "mat3 = mat1 + mat2\n",
    "\n",
    "mat3"
   ]
  },
  {
   "cell_type": "markdown",
   "id": "3bacdf15-8dd8-4155-9215-8c8256be44f4",
   "metadata": {},
   "source": [
    "### Exercise 8: Negation of a Complex Matrix\n",
    "Find the negation of the complex matrix \n",
    "$$ m = \\begin{bmatrix} 2 + i & 3 \\\\ 1 - i & 2 + 2i \\end{bmatrix} $$.\n",
    "### Respuesta\n",
    "Como indica la salida del código, la respuesta correcta es:\n",
    "$$ -m = \\begin{bmatrix} -2 - i && -3 \\\\ -1 + i && -2 - 2i \\end{bmatrix} $$ \n"
   ]
  },
  {
   "cell_type": "code",
   "execution_count": 14,
   "id": "ed537cf2-942f-4fb6-a0fc-8a1b09b139fb",
   "metadata": {},
   "outputs": [
    {
     "data": {
      "text/plain": [
       "array([[-2.-1.j, -3.-0.j],\n",
       "       [-1.+1.j, -2.-2.j]])"
      ]
     },
     "execution_count": 14,
     "metadata": {},
     "output_type": "execute_result"
    }
   ],
   "source": [
    "import numpy as np\n",
    "m = np.array([[2+1j, 3], [1-1j, 2+2j]])\n",
    "n = -m\n",
    "n"
   ]
  },
  {
   "cell_type": "markdown",
   "id": "8776bf36-ef5a-4691-aa03-93fffddfba80",
   "metadata": {},
   "source": [
    "### Exercise 9: Multiplication of a Complex Matrix by a Scalar\n",
    "Multiply the complex matrix \n",
    "$$ m = \\begin{bmatrix} 1 - i & 2 \\\\ 3 + i & 4 - 2i \\end{bmatrix} $$ \n",
    "by the complex scalar $$ 2 + 3i $$.\n",
    "### Respuesta\n",
    "Como indica la salida del código, la respuesta correcta es:\n",
    "$$ m2 = \\begin{bmatrix} 5 + i && 4 + 6i \\\\ 3 + 11i && 14 + 8i \\end{bmatrix} $$ \n"
   ]
  },
  {
   "cell_type": "code",
   "execution_count": 13,
   "id": "4cbc7091-5bd1-4c37-b568-905fb258793f",
   "metadata": {},
   "outputs": [
    {
     "data": {
      "text/plain": [
       "array([[ 5. +1.j,  4. +6.j],\n",
       "       [ 3.+11.j, 14. +8.j]])"
      ]
     },
     "execution_count": 13,
     "metadata": {},
     "output_type": "execute_result"
    }
   ],
   "source": [
    "import numpy as np\n",
    "matrix = np.array([[1-1j, 2],[3+1j, 4-2j]])\n",
    "c = 2+3j\n",
    "c_matrix = matrix*c\n",
    "c_matrix"
   ]
  },
  {
   "cell_type": "markdown",
   "id": "630b17fa-8180-432b-b21c-714a55b40dd0",
   "metadata": {},
   "source": [
    "### Exercise 10: Conjugate of a Complex Matrix\n",
    "Compute the conjugate of the complex matrix \n",
    "$$ m = \\begin{bmatrix} 1 + i & 2 \\\\ 3 - i & 4 + 2i \\end{bmatrix} $$.\n",
    "\n",
    "### Respuesta\n",
    "Como indica la salida del código, la respuesta correcta es:\n",
    "$$ m2 = \\begin{bmatrix} 1 - i && 2 \\\\ 3 + i && 4 - 2i \\end{bmatrix} $$ "
   ]
  },
  {
   "cell_type": "code",
   "execution_count": 16,
   "id": "e898ee12-fd6a-4fc3-bb7d-ae3c7d96ef57",
   "metadata": {},
   "outputs": [
    {
     "data": {
      "text/plain": [
       "array([[1.-1.j, 2.-0.j],\n",
       "       [3.+1.j, 4.-2.j]])"
      ]
     },
     "execution_count": 16,
     "metadata": {},
     "output_type": "execute_result"
    }
   ],
   "source": [
    "matrix = np.array([[1+1j, 2], [3-1j, 4+2j]])\n",
    "conj = np.conjugate(matrix)\n",
    "conj"
   ]
  },
  {
   "cell_type": "markdown",
   "id": "3c3bfb57-42ef-48b2-8a93-85d759733c56",
   "metadata": {},
   "source": [
    "### Exercise 11: Transpose of a Complex Matrix\n",
    "Find the transpose of the complex matrix \n",
    "$$ m = \\begin{bmatrix} 1 - i & 2 + 2i \\\\ 3 & 4 - i \\end{bmatrix} $$.\n",
    "\n",
    "### Respuesta\n",
    "Como indica la salida del código, la respuesta correcta es:\n",
    "$$ mT = \\begin{bmatrix} 1 - i && 3 \\\\ 2 + 2i && 4 - i \\end{bmatrix} $$ "
   ]
  },
  {
   "cell_type": "code",
   "execution_count": 17,
   "id": "4ffcad9a-84e5-40fd-bbc1-6deed69c43d5",
   "metadata": {},
   "outputs": [
    {
     "name": "stdout",
     "output_type": "stream",
     "text": [
      "[[1.-1.j 3.+0.j]\n",
      " [2.+2.j 4.-1.j]]\n"
     ]
    }
   ],
   "source": [
    "import numpy as np\n",
    "matrix = np.array([[1-1j, 2+2j],[3, 4-1j]])\n",
    "transpose = matrix.T\n",
    "print(transpose)"
   ]
  },
  {
   "cell_type": "markdown",
   "id": "37b72d03-e522-41bc-8869-14783dea710e",
   "metadata": {},
   "source": [
    "### Exercise 12: Adjunct (Conjugate Transpose) of a Complex Matrix\n",
    "Calculate the adjunct (or conjugate transpose) of the complex matrix \n",
    "$$ m = \\begin{bmatrix} 1 + 2i & 3 - i \\\\ 4 & 5 + i \\end{bmatrix} $$.\n",
    "\n",
    "### Respuesta\n",
    "Como indica la salida del código, la respuesta correcta es:\n",
    "$$ mT = \\begin{bmatrix} 1 - 2i && 4 \\\\ 3 + i && 5 - i \\end{bmatrix} $$ "
   ]
  },
  {
   "cell_type": "code",
   "execution_count": 18,
   "id": "b7e147f9-ee09-417f-9b28-fc707b35269f",
   "metadata": {},
   "outputs": [
    {
     "data": {
      "text/plain": [
       "array([[1.-2.j, 4.-0.j],\n",
       "       [3.+1.j, 5.-1.j]])"
      ]
     },
     "execution_count": 18,
     "metadata": {},
     "output_type": "execute_result"
    }
   ],
   "source": [
    "import numpy as np\n",
    "matrix = np.array([[1+2j, 3-1j], [4, 5+1j]])\n",
    "conj = np.conjugate(matrix)\n",
    "adj = conj.T\n",
    "adj"
   ]
  },
  {
   "cell_type": "markdown",
   "id": "9679ccaf-37f4-439c-b249-6d94e56f19b2",
   "metadata": {},
   "source": [
    "### Exercise 13: Checking the Dimensions of a Matrix\n",
    "Determine the dimensions of the complex matrix \n",
    "$$ m = \\begin{bmatrix} 1 - i & 2 \\\\ 3 + 2i & 4 - i \\end{bmatrix} $$.\n",
    "### Respuesta\n",
    "Como indica la salida del código, la respuesta correcta es:\n",
    "\n",
    "La matriz es de 2x2."
   ]
  },
  {
   "cell_type": "code",
   "execution_count": 19,
   "id": "795469e8-b644-4d6c-b4de-2ba1ed07af0d",
   "metadata": {},
   "outputs": [
    {
     "data": {
      "text/plain": [
       "(2, 2)"
      ]
     },
     "execution_count": 19,
     "metadata": {},
     "output_type": "execute_result"
    }
   ],
   "source": [
    "import numpy as np\n",
    "matrix = np.array([[1-1j, 2],[3+2j, 4-1j]])\n",
    "matrix.shape"
   ]
  },
  {
   "cell_type": "markdown",
   "id": "8482220a-5067-43ed-bf06-2cbc30abd944",
   "metadata": {},
   "source": [
    "### Exercise 14: Multiplying a Complex Square Matrix by a Complex Column Vector\n",
    "Multiply the complex square matrix \n",
    "$$ m = \\begin{bmatrix} 1 + i & 2 - i \\\\ 3 & 4 + i \\end{bmatrix} $$ \n",
    "by the complex column vector \n",
    "$$ v = \\begin{bmatrix} 2 - i \\\\ 1 + 3i \\end{bmatrix} $$.\n",
    "### Respuesta\n",
    "Como indica la salida del código, la respuesta correcta es:\n",
    "$$ mT = \\begin{bmatrix} 8 + 6i \\\\ 7 + 10i \\end{bmatrix} $$ "
   ]
  },
  {
   "cell_type": "code",
   "execution_count": 20,
   "id": "619e0b66-1678-46a9-b292-a4ae97124586",
   "metadata": {},
   "outputs": [
    {
     "data": {
      "text/plain": [
       "array([[8. +6.j],\n",
       "       [7.+10.j]])"
      ]
     },
     "execution_count": 20,
     "metadata": {},
     "output_type": "execute_result"
    }
   ],
   "source": [
    "import numpy as np\n",
    "matrix = np.array([[1+1j, 2-1j],[3, 4+1j]])\n",
    "vector = np.array([[2-1j], [1+3j]])\n",
    "m_v = np.dot(matrix, vector)\n",
    "m_v"
   ]
  },
  {
   "cell_type": "code",
   "execution_count": null,
   "id": "13c33cfc-4a00-4cbd-9ed0-01caab2465ea",
   "metadata": {},
   "outputs": [],
   "source": []
  }
 ],
 "metadata": {
  "kernelspec": {
   "display_name": "Python 3 (ipykernel)",
   "language": "python",
   "name": "python3"
  },
  "language_info": {
   "codemirror_mode": {
    "name": "ipython",
    "version": 3
   },
   "file_extension": ".py",
   "mimetype": "text/x-python",
   "name": "python",
   "nbconvert_exporter": "python",
   "pygments_lexer": "ipython3",
   "version": "3.11.1"
  }
 },
 "nbformat": 4,
 "nbformat_minor": 5
}
